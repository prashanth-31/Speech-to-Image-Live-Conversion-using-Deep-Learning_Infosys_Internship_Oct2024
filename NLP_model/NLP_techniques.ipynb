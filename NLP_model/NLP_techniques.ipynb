{
 "cells": [
  {
   "cell_type": "code",
   "execution_count": 1,
   "id": "51e08a72-e45a-4e28-a42b-7ed4c89695be",
   "metadata": {},
   "outputs": [
    {
     "name": "stderr",
     "output_type": "stream",
     "text": [
      "[nltk_data] Downloading package punkt to\n",
      "[nltk_data]     C:\\Users\\prash\\AppData\\Roaming\\nltk_data...\n",
      "[nltk_data]   Unzipping tokenizers\\punkt.zip.\n",
      "[nltk_data] Downloading package vader_lexicon to\n",
      "[nltk_data]     C:\\Users\\prash\\AppData\\Roaming\\nltk_data...\n",
      "No model was supplied, defaulted to distilbert/distilbert-base-uncased-finetuned-sst-2-english and revision 714eb0f (https://huggingface.co/distilbert/distilbert-base-uncased-finetuned-sst-2-english).\n",
      "Using a pipeline without specifying a model name and revision in production is not recommended.\n"
     ]
    },
    {
     "name": "stdout",
     "output_type": "stream",
     "text": [
      "WARNING:tensorflow:From C:\\Users\\prash\\anaconda3\\Lib\\site-packages\\tf_keras\\src\\losses.py:2976: The name tf.losses.sparse_softmax_cross_entropy is deprecated. Please use tf.compat.v1.losses.sparse_softmax_cross_entropy instead.\n",
      "\n"
     ]
    },
    {
     "name": "stderr",
     "output_type": "stream",
     "text": [
      "Hardware accelerator e.g. GPU is available in the environment, but no `device` argument is passed to the `Pipeline` object. Model will be on CPU.\n"
     ]
    }
   ],
   "source": [
    "import nltk\n",
    "from nltk.tokenize import RegexpTokenizer\n",
    "from nltk.stem import SnowballStemmer\n",
    "from transformers import pipeline\n",
    "\n",
    "nltk.download('punkt')  \n",
    "nltk.download('vader_lexicon')  \n",
    "\n",
    "# Initialize the Snowball Stemmer\n",
    "stemmer = SnowballStemmer(\"english\")\n",
    "\n",
    "# Initialize sentiment analysis pipeline\n",
    "sentiment_analysis = pipeline(\"sentiment-analysis\")"
   ]
  },
  {
   "cell_type": "code",
   "execution_count": 2,
   "id": "22dd7f57-6324-4d73-a911-f264c5d431c7",
   "metadata": {},
   "outputs": [],
   "source": [
    "input_text = \"The movie was not just bad, it was absolutely terrible and made me upset.\""
   ]
  },
  {
   "cell_type": "code",
   "execution_count": 3,
   "id": "60c1b4df-0785-4765-b9e2-ba59e674e4d9",
   "metadata": {},
   "outputs": [
    {
     "name": "stdout",
     "output_type": "stream",
     "text": [
      "Tokenized Words: ['The', 'movie', 'was', 'not', 'just', 'bad', 'it', 'was', 'absolutely', 'terrible', 'and', 'made', 'me', 'upset']\n"
     ]
    }
   ],
   "source": [
    "tokenizer = RegexpTokenizer(r'\\w+')\n",
    "tokens = tokenizer.tokenize(input_text)\n",
    "print(\"Tokenized Words:\", tokens)"
   ]
  },
  {
   "cell_type": "code",
   "execution_count": 4,
   "id": "283c2575-a843-4420-aa81-6317593ee348",
   "metadata": {},
   "outputs": [
    {
     "name": "stdout",
     "output_type": "stream",
     "text": [
      "Stemmed Text: the movi was not just bad it was absolut terribl and made me upset\n"
     ]
    }
   ],
   "source": [
    "stemmed_words = [stemmer.stem(word) for word in tokens]\n",
    "stemmed_text = \" \".join(stemmed_words)\n",
    "print(\"Stemmed Text:\", stemmed_text)"
   ]
  },
  {
   "cell_type": "code",
   "execution_count": 5,
   "id": "42383ec5-f96a-43db-9fec-c1538db8b9e0",
   "metadata": {},
   "outputs": [
    {
     "name": "stdout",
     "output_type": "stream",
     "text": [
      "Sentiment Analysis Result: [{'label': 'NEGATIVE', 'score': 0.9989070892333984}]\n"
     ]
    }
   ],
   "source": [
    "sentiment = sentiment_analysis(input_text)\n",
    "print(\"Sentiment Analysis Result:\", sentiment)"
   ]
  },
  {
   "cell_type": "code",
   "execution_count": null,
   "id": "8853da3d-96cf-43fb-b16c-bb175dbd0feb",
   "metadata": {},
   "outputs": [],
   "source": []
  }
 ],
 "metadata": {
  "kernelspec": {
   "display_name": "Python 3 (ipykernel)",
   "language": "python",
   "name": "python3"
  },
  "language_info": {
   "codemirror_mode": {
    "name": "ipython",
    "version": 3
   },
   "file_extension": ".py",
   "mimetype": "text/x-python",
   "name": "python",
   "nbconvert_exporter": "python",
   "pygments_lexer": "ipython3",
   "version": "3.12.4"
  }
 },
 "nbformat": 4,
 "nbformat_minor": 5
}
